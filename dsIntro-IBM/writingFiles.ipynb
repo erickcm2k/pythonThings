{
 "cells": [
  {
   "cell_type": "code",
   "execution_count": 14,
   "metadata": {},
   "outputs": [
    {
     "name": "stdout",
     "output_type": "stream",
     "text": [
      "this is new line A\n",
      "this is new line B\n",
      "appended line A\n",
      "appended line B\n",
      "appended line C\n",
      "\n"
     ]
    }
   ],
   "source": [
    "with open('./lipsum.txt', 'w') as file: # using the write mode 'w'\n",
    "    file.write('this is new line A\\n')  # creates the file if not exists\n",
    "    file.write('this is new line B\\n')  # otherwise, it will overwrite the existent content\n",
    "    \n",
    "with open('./lipsum.txt', 'a') as file: # using the append mode 'a'\n",
    "    file.write('appended line A\\n')       # adds the text to \n",
    "    file.write('appended line B\\n')       # the end of the file\n",
    "    file.write('appended line C\\n')\n",
    "    \n",
    "with open('./lipsum.txt', 'r') as file:\n",
    "    a = file.read()\n",
    "print(a)\n"
   ]
  },
  {
   "cell_type": "code",
   "execution_count": null,
   "metadata": {},
   "outputs": [],
   "source": []
  }
 ],
 "metadata": {
  "kernelspec": {
   "display_name": "Python 3",
   "language": "python",
   "name": "python3"
  },
  "language_info": {
   "codemirror_mode": {
    "name": "ipython",
    "version": 3
   },
   "file_extension": ".py",
   "mimetype": "text/x-python",
   "name": "python",
   "nbconvert_exporter": "python",
   "pygments_lexer": "ipython3",
   "version": "3.7.4"
  }
 },
 "nbformat": 4,
 "nbformat_minor": 2
}
