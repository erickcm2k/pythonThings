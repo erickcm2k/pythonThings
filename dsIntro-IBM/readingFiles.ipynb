{
 "cells": [
  {
   "cell_type": "code",
   "execution_count": 3,
   "metadata": {},
   "outputs": [
    {
     "name": "stdout",
     "output_type": "stream",
     "text": [
      "./lipsum.txt\n",
      "r\n",
      "this is new line\n",
      "\n"
     ]
    }
   ],
   "source": [
    "myFile = open('./lipsum.txt', 'r') # filename, mode\n",
    "print(myFile.name)\n",
    "print(myFile.mode)\n",
    "print(myFile.read())\n",
    "myFile.close() # necessary condition to tell the operating system\n",
    "               # you´re done with the file"
   ]
  },
  {
   "cell_type": "code",
   "execution_count": 2,
   "metadata": {},
   "outputs": [
    {
     "name": "stdout",
     "output_type": "stream",
     "text": [
      "lorep.txt\n",
      "r\n",
      "Lorem\n",
      "\n",
      " Ipsum is simply dummy text of the printing and typesetting industry.\n",
      "Lorem Ipsum has been the industry's standard dummy text ever since the 1500s, when an unknown printer took a galley of type and scrambled it to make a type specimen book. \n",
      "It has survived not only five centuries, but also the leap into electronic typesetting, remaining essentially unchanged.\n",
      "It was popularised in the 1960s with the release of Letraset sheets containing Lorem Ipsum passages, and more desktop publishing software like Aldus PageMaker including versions of Lorem Ipsum.\n",
      "\n"
     ]
    },
    {
     "data": {
      "text/plain": [
       "True"
      ]
     },
     "execution_count": 2,
     "metadata": {},
     "output_type": "execute_result"
    }
   ],
   "source": [
    "with open('lorep.txt', 'r') as file2:\n",
    "    print(file2.name)\n",
    "    print(file2.mode)\n",
    "    print(file2.read(5)) # reads the first five elements of the file\n",
    "    print()\n",
    "    print(file2.read()) # reads froms fifth element to eof\n",
    "\n",
    "file2.closed # checks whether the file is closed or not"
   ]
  },
  {
   "cell_type": "code",
   "execution_count": 38,
   "metadata": {
    "scrolled": false
   },
   "outputs": [
    {
     "name": "stdout",
     "output_type": "stream",
     "text": [
      "Lorem Ipsum is simply dummy text of the printing and typesetting industry.\n",
      "\n",
      "Lorem Ipsum has been the industry's standard dummy text ever since the 1500s, when an unknown printer took a galley of type and scrambled it to make a type specimen book. \n",
      "\n",
      "It has survived not only five centuries, but also the leap into electronic typesetting, remaining essentially unchanged.\n",
      "\n",
      "It was popularised in the 1960s with the release of Letraset sheets containing Lorem Ipsum passages, and more desktop publishing software like Aldus PageMaker including versions of Lorem Ipsum.\n",
      "\n"
     ]
    }
   ],
   "source": [
    "with open('lorep.txt', 'r') as file2:\n",
    "    for line in file2:\n",
    "        print(line) # prints line by line"
   ]
  },
  {
   "cell_type": "code",
   "execution_count": 2,
   "metadata": {},
   "outputs": [
    {
     "name": "stdout",
     "output_type": "stream",
     "text": [
      "Lorem Ipsum is simply dummy text of the printing and typesetting industry.\n",
      "\n",
      "Lorem Ipsum is simply dummy text of the printing and typesetting industry.\n",
      "\n",
      "Lorem Ipsum has been the industry's standard dummy text ever since the 1500s, when an unknown printer took a galley of type and scrambled it to make a type specimen book. \n",
      "\n",
      "It has survived not only five centuries, but also the leap into electronic typesetting, remaining essentially unchanged.\n",
      "\n",
      "It was popularised in the 1960s with the release of Letraset sheets containing Lorem Ipsum passages, and more desktop publishing software like Aldus PageMaker including versions of Lorem Ipsum.\n",
      "\n",
      "dddd\n",
      "['Lorem Ipsum is simply dummy text of the printing and typesetting industry.\\n', \"Lorem Ipsum has been the industry's standard dummy text ever since the 1500s, when an unknown printer took a galley of type and scrambled it to make a type specimen book. \\n\", 'It has survived not only five centuries, but also the leap into electronic typesetting, remaining essentially unchanged.\\n', 'It was popularised in the 1960s with the release of Letraset sheets containing Lorem Ipsum passages, and more desktop publishing software like Aldus PageMaker including versions of Lorem Ipsum.\\n']\n"
     ]
    }
   ],
   "source": [
    "with open('lorep.txt', 'r') as file2:\n",
    "    fileLines = file2.readlines() # saves line by line to a list\n",
    "print(fileLines[0])\n",
    "i = 0\n",
    "for i in range(len(fileLines)):\n",
    "    print(fileLines[i])"
   ]
  },
  {
   "cell_type": "code",
   "execution_count": null,
   "metadata": {},
   "outputs": [],
   "source": []
  }
 ],
 "metadata": {
  "kernelspec": {
   "display_name": "Python 3",
   "language": "python",
   "name": "python3"
  },
  "language_info": {
   "codemirror_mode": {
    "name": "ipython",
    "version": 3
   },
   "file_extension": ".py",
   "mimetype": "text/x-python",
   "name": "python",
   "nbconvert_exporter": "python",
   "pygments_lexer": "ipython3",
   "version": "3.7.4"
  }
 },
 "nbformat": 4,
 "nbformat_minor": 2
}
