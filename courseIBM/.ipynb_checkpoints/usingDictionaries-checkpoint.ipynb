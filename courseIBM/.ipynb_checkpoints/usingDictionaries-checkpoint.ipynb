{
 "cells": [
  {
   "cell_type": "code",
   "execution_count": 20,
   "metadata": {},
   "outputs": [
    {
     "name": "stdout",
     "output_type": "stream",
     "text": [
      "hello\n",
      "using a tuple as key\n",
      "dict_keys(['num', 'str', 'salute', 311, (21, '33')])\n",
      "dict_values([12, 'hello', 'hello world', 32, 'using a tuple as key'])\n"
     ]
    }
   ],
   "source": [
    "a = {\n",
    "    \"num\": 12,\n",
    "    \"str\": \"hello\",\n",
    "    \"salute\": \"hello world\",\n",
    "    311: 32,\n",
    "    (21,\"33\"): \"using a tuple as key\" # can even use a tuple as a key!\n",
    "}\n",
    "\n",
    "\"str\" in a # check wheter a key exists or not\n",
    "print(a[\"str\"]) # getting the element on the dict\n",
    "print(a[(21,\"33\")])\n",
    "\n",
    "print(a.keys())\n",
    "print(a.values())"
   ]
  },
  {
   "cell_type": "code",
   "execution_count": 1,
   "metadata": {},
   "outputs": [
    {
     "name": "stdout",
     "output_type": "stream",
     "text": [
      "a\n",
      "('a', 'b', 'c')\n"
     ]
    }
   ],
   "source": [
    "A=('a','b','c')\n",
    "\n",
    "print(A[0])\n",
    "print(A[:])"
   ]
  },
  {
   "cell_type": "code",
   "execution_count": null,
   "metadata": {},
   "outputs": [],
   "source": []
  }
 ],
 "metadata": {
  "kernelspec": {
   "display_name": "Python 3",
   "language": "python",
   "name": "python3"
  },
  "language_info": {
   "codemirror_mode": {
    "name": "ipython",
    "version": 3
   },
   "file_extension": ".py",
   "mimetype": "text/x-python",
   "name": "python",
   "nbconvert_exporter": "python",
   "pygments_lexer": "ipython3",
   "version": "3.7.4"
  }
 },
 "nbformat": 4,
 "nbformat_minor": 2
}
