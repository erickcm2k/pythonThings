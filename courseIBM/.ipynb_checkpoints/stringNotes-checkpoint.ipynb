{
 "cells": [
  {
   "cell_type": "code",
   "execution_count": 14,
   "metadata": {
    "scrolled": true
   },
   "outputs": [
    {
     "name": "stdout",
     "output_type": "stream",
     "text": [
      "3.7.4 (default, Aug 13 2019, 15:17:50) \n",
      "[Clang 4.0.1 (tags/RELEASE_401/final)]\n"
     ]
    }
   ],
   "source": [
    "import sys\n",
    "print(sys.version)"
   ]
  },
  {
   "cell_type": "code",
   "execution_count": 63,
   "metadata": {},
   "outputs": [
    {
     "name": "stdout",
     "output_type": "stream",
     "text": [
      "Erick C\n",
      "zenítraM adeñatsaC kcirE\n",
      "EcCte rn\n",
      "EikCsaea\n",
      "Erick Castañeda MartínezErick Castañeda MartínezErick Castañeda Martínez\n",
      "ERICK CASTAÑEDA MARTÍNEZ\n",
      "erick castañeda martínez\n",
      "Erick Martínez Martínez\n"
     ]
    }
   ],
   "source": [
    "name = 'Erick Castañeda Martínez'\n",
    "print(name[0:7]) # characters from 0 to 7\n",
    "print(name[::-1]) # inverted string\n",
    "print(name[::3]) # string 3 by 3\n",
    "print(name[0:16:2]) # string 2 by 2 from 0 to 15\n",
    "print(3 * name) # 3 times string\n",
    "print(name.upper())\n",
    "print(name.lower())\n",
    "print(name.replace('Castañeda','Martínez'))\n",
    "#for char in name:\n",
    " #   print(char)"
   ]
  },
  {
   "cell_type": "code",
   "execution_count": 60,
   "metadata": {},
   "outputs": [
    {
     "data": {
      "text/plain": [
       "-1"
      ]
     },
     "execution_count": 60,
     "metadata": {},
     "output_type": "execute_result"
    }
   ],
   "source": [
    "\"0123456\".find('9')"
   ]
  },
  {
   "cell_type": "code",
   "execution_count": 1,
   "metadata": {},
   "outputs": [
    {
     "data": {
      "text/plain": [
       "7"
      ]
     },
     "execution_count": 1,
     "metadata": {},
     "output_type": "execute_result"
    }
   ],
   "source": [
    "3+2*2"
   ]
  },
  {
   "cell_type": "code",
   "execution_count": null,
   "metadata": {},
   "outputs": [],
   "source": []
  }
 ],
 "metadata": {
  "kernelspec": {
   "display_name": "Python 3",
   "language": "python",
   "name": "python3"
  },
  "language_info": {
   "codemirror_mode": {
    "name": "ipython",
    "version": 3
   },
   "file_extension": ".py",
   "mimetype": "text/x-python",
   "name": "python",
   "nbconvert_exporter": "python",
   "pygments_lexer": "ipython3",
   "version": "3.7.4"
  }
 },
 "nbformat": 4,
 "nbformat_minor": 2
}
